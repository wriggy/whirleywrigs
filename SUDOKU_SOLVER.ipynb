{
 "cells": [
  {
   "cell_type": "markdown",
   "metadata": {},
   "source": [
    "# Sudoku solver\n",
    "\n",
    "**Approach**: Create a set of tuples of all possible grid entries (row,col,num). Remove impossible entries progressively using set arithmetic until left with just 81 - the solution. If after iteratively applying the constraints there are still more than 81 entries ('hard' problems) try a valid entry for a cell with only 2 possible entries. Follow through with the trial guessing again if necessary until either success or the possibilities are exhausted in which case try the alternative. If all remaining cells have more than 2 possible entries abandon due to lack of constraints."
   ]
  },
  {
   "cell_type": "code",
   "execution_count": 1,
   "metadata": {},
   "outputs": [],
   "source": [
    "import matplotlib.pyplot as plt"
   ]
  },
  {
   "cell_type": "code",
   "execution_count": 2,
   "metadata": {},
   "outputs": [],
   "source": [
    "def init() :\n",
    "    \n",
    "    # Create dictionary mapping (row,col) to set of all possible (row,col,num) tuples for each CELL\n",
    "    c = [((row,col), {(row,col,num) for num in range(1,10)}) for row in range(9) for col in range(9)]\n",
    "    cell = dict(c)\n",
    "    \n",
    "    # create dictionary mapping  (row,col) tuple to set of (row,col) tuples for each 3x3 box. \n",
    "    b = [{(row,col) for row in range(k*3,k*3+3) for col in \n",
    "          range(l*3,l*3+3)} for k in range(3) for l in range(3)]\n",
    "    bb = []\n",
    "    for i in range(9) :\n",
    "        bb = bb + [(vec, b[i]) for vec in b[i]]\n",
    "    box = dict(bb)\n",
    "    \n",
    "    # Create list of sets of all possible (row,col,num) tuples for each (row,col) tuple\n",
    "    rc = [{(row,col,num) for num in range(1,10)} for row in range(9) for col in range(9)]\n",
    "    \n",
    "    # Create list of sets of all possible (row,col,num) tuples for each (row,num) tuple\n",
    "    rn = [{(row,col,num) for col in range(9)} for row in range(9) for num in range(1,10)]\n",
    "    \n",
    "    # Create list of sets of all possible (row,col,num) tuples for each (col,num) tuple\n",
    "    cn = [{(row,col,num) for row in range(9)} for col in range(9) for num in range(1,10)]\n",
    "    \n",
    "    # Create list of sets of all possible (row,col,num) tuples for each (box,num) tuple\n",
    "    bn = []\n",
    "    for num in range(9) :\n",
    "        bn = bn + [{(row,col,num) for row in range(k*3,k*3+3) for col in \n",
    "           range(l*3, l*3 + 3)} for k in range(3) for l in range(3)]\n",
    "\n",
    "    return(cell, box, rc,rn,cn,bn)\n",
    "\n",
    "def adjust_for_known(w,row,col,num) :\n",
    "# remove entries for cell, row, col & box \n",
    "    cellvecs = CELL[(row,col)]\n",
    "    rvecs = {(row,i,num) for i in range(9)} \n",
    "    cvecs = {(i,col,num) for i in range(9)} \n",
    "    bvecs = {(i,j,num) for (i,j) in BOX[(row,col)]}\n",
    "    imposs = (cellvecs | rvecs | cvecs | bvecs) - {(row,col,num)}\n",
    "    w = w - imposs\n",
    "    return(w)\n",
    "\n",
    "def new_knowns(w, knowns):\n",
    "# if number of possible vals for a CELL is 1 have a known value\n",
    "    for cells in ROWCOL:\n",
    "        if len(cells & w) == 1 :\n",
    "                known = cells & w\n",
    "                knowns = knowns | known\n",
    "# look for rows with only one possible place for val\n",
    "    for cells in ROWNUM:\n",
    "        if len(cells & w) == 1 :\n",
    "                known = cells & w\n",
    "                knowns = knowns | known\n",
    "# look for cols with only one possible place for val        \n",
    "    for cells in COLNUM:\n",
    "        if len(cells & w) == 1 :\n",
    "                known = cells & w\n",
    "                knowns = knowns | known\n",
    "# look for boxes with only one possible place for val        \n",
    "    for cells in BOXNUM:\n",
    "        if len(cells & w) == 1 :\n",
    "                known = cells & w\n",
    "                #print(\"box num known\", known )\n",
    "                knowns = knowns | known\n",
    "    return(w,knowns)\n",
    "\n",
    "def try_a_num(w, knowns, i) : \n",
    "# look for cells with just 2 possible options left\n",
    "# needed for 'hard' problems\n",
    "    cells_to_try = []\n",
    "    for cells in ROWCOL:\n",
    "        if len(cells & w) == 2 :\n",
    "            cells_to_try = cells_to_try + list(cells & w)\n",
    "    if not cells_to_try :\n",
    "        print(\"Not enough constraints. Abandoning as all remaining cells have > 2 possible options\")\n",
    "        return((0,0))\n",
    "    trial = cells_to_try[i]\n",
    "    knownst = knowns | {trial}\n",
    "    wt = w\n",
    "    \n",
    "    pre = 0\n",
    "    post = len(knownst)\n",
    "    num = 1\n",
    "    while (post>pre) :\n",
    "        pre = len(knownst)\n",
    "        for i, known in enumerate(knownst):\n",
    "            wt = adjust_for_known(wt, *known)\n",
    "        wt,knownst = new_knowns(wt, knownst)\n",
    "        post = len(knownst)\n",
    "        num = num+1\n",
    "    return(wt, knownst)\n",
    "\n",
    "def valid_knowns(knowns) :\n",
    "# check that each cell has only 1 value and each row, col, box has only 1 entry for each val\n",
    "# 1 = success, 0 = fail\n",
    "    result = 1\n",
    "    # look for cells with duplicate entries\n",
    "    for cells in ROWCOL:\n",
    "        if len(cells & knowns) > 1 :\n",
    "                result = 0\n",
    "    # look for rows with duplicate vals\n",
    "    for cells in ROWNUM:\n",
    "        if len(cells & knowns) > 1 :\n",
    "                result = 0\n",
    "    # look for cols with duplicate vals        \n",
    "    for cells in COLNUM:\n",
    "        if len(cells & knowns) > 1 :\n",
    "                result = 0\n",
    "    # look for boxes with duplicate vals        \n",
    "    for cells in BOXNUM:\n",
    "        if len(cells & knowns) > 1 :\n",
    "                result = 0\n",
    "    return(result)"
   ]
  },
  {
   "cell_type": "code",
   "execution_count": 3,
   "metadata": {},
   "outputs": [],
   "source": [
    "# visualise\n",
    "\n",
    "def draw_grid() :\n",
    "# create empty sudoku grid\n",
    "    fig, ax = plt.subplots(figsize=(6,6))\n",
    "    ax.set_xlim(0,90)\n",
    "    ax.set_ylim(0,90)\n",
    "    ax.tick_params(axis='both', which='both', bottom=False, top=False, \n",
    "                labelbottom=False, left=False, right=False, labelleft=False)\n",
    "    for i in range(0,90,10):\n",
    "        ax.axhline(i,color='k',lw=1)\n",
    "        ax.axvline(i,color='k',lw=1)\n",
    "    for i in range(0,90,30):\n",
    "        ax.axhline(i,color='k',lw=2)\n",
    "        ax.axvline(i,color='k',lw=2)\n",
    "    return(ax)\n",
    "\n",
    "def fill_cell(ax,row,col,num,color='r') :\n",
    "# add num to cell of sudoku grid (ax) row, col 0-8, num 1-9\n",
    "    ax.text(col*10+4,84-row*10,num,fontsize = 16, color=color)\n",
    "    return(ax)"
   ]
  },
  {
   "cell_type": "code",
   "execution_count": 4,
   "metadata": {},
   "outputs": [],
   "source": [
    "# The main bit. Solve the sudoku problem with the data given as a set of (row,col, num) tuples\n",
    "\n",
    "# initialise global variables to use\n",
    "CELL, BOX, ROWCOL, ROWNUM, COLNUM, BOXNUM = init()\n",
    "\n",
    "def solve(prob):\n",
    "# row and col 0-8, num = entry 1-9\n",
    "    # Create set of all possibles (row,col,num) tuples. row, col 0-8, num 1 -9\n",
    "    w = {(i,j,k) for i in range(9) for j in range(9) for k in range(1,10)}\n",
    "    \n",
    "    knowns = prob\n",
    "    #init_num_knowns = len(knowns)\n",
    "    #print(\"Initial number of knowns :\", init_num_knowns)\n",
    "    finish = 0\n",
    "\n",
    "    # find some new knowns\n",
    "    pre = 0\n",
    "    post = len(knowns)\n",
    "    num = 1\n",
    "    while (post>pre) :\n",
    "        pre = len(knowns)\n",
    "        for i, known in enumerate(knowns):\n",
    "            w = adjust_for_known(w, *known)\n",
    "        w,knowns = new_knowns(w, knowns)\n",
    "        post = len(knowns)\n",
    "        num = num+1\n",
    "    \n",
    "    if not valid_knowns(knowns) :\n",
    "        print(\"Invalid constraints??\")\n",
    "        return(1)\n",
    "        \n",
    "    # if 81 knowns - success! \n",
    "    if (len(knowns) == 81) : \n",
    "        print(\"That was an easy one\")\n",
    "        finish = 1    \n",
    "    else :\n",
    "    ### create a loop for trials if not finished...\n",
    "        i = 0 # first option\n",
    "        td = 0 # depth of trial\n",
    "        esc = 0 # escape after 15 loops if no success \n",
    "        # keep track of trials\n",
    "        trials = [(w,knowns)] \n",
    "        \n",
    "        while (finish == 0) & (esc < 15) : \n",
    "            #print(\"try a num, trial depth \",td, \" option \", i)\n",
    "            wt, knownst = try_a_num(*trials[td],i)\n",
    "            if (not wt) : break\n",
    "            if (valid_knowns(knownst) & (len(knownst)==81)) :\n",
    "                print(\"success!\")\n",
    "                knowns = knownst\n",
    "                finish = 1\n",
    "            elif (valid_knowns(knownst) & (len(knownst)<81)) :\n",
    "                #print(\"need to guess another number...\")\n",
    "                # store result in list with index = depth of trial\n",
    "                trials = trials + [(wt,knownst)]\n",
    "                td = td + 1\n",
    "                i = 0\n",
    "            else : \n",
    "                #print(\"That number didn't work\")\n",
    "                if (i == 0) :\n",
    "                    # print(\"Try the alternative\")\n",
    "                    i = 1\n",
    "                else :\n",
    "                    # remove entry from trials list \n",
    "                    # print(\"Going back a step ..\")\n",
    "                    td = td - 1 \n",
    "                    trials.pop()\n",
    "                    i = 1\n",
    "            esc = esc + 1\n",
    "\n",
    "    print(\"Initial known values are in black\")\n",
    "    ax = draw_grid()\n",
    "    for ix,dat in enumerate(prob):\n",
    "        fill_cell(ax,*dat,'k')\n",
    "    for ix,dat in enumerate(knowns - prob):\n",
    "        fill_cell(ax,*dat)\n",
    "    return(ax)"
   ]
  },
  {
   "cell_type": "code",
   "execution_count": 5,
   "metadata": {},
   "outputs": [],
   "source": [
    "# beginner problem\n",
    "# data as set - (row, col, num) row, col 0-8, num 1-9\n",
    "prob1 = {(0,2,6),(0,3,3),(0,4,8),(0,6,4),(0,7,9),(1,0,8),(1,1,7),(2,5,9)\n",
    "         ,(3,0,9),(3,3,8),(3,4,5),(3,7,3),(4,0,4),(4,2,7),(4,3,1),(4,5,3)\n",
    "         ,(4,6,9),(4,8,2),(5,1,2),(5,4,9),(5,5,4),(5,8,6),(6,3,5),(7,7,4)\n",
    "         ,(7,8,7),(8,1,3),(8,2,8),(8,4,4),(8,5,6),(8,6,2)}"
   ]
  },
  {
   "cell_type": "code",
   "execution_count": 6,
   "metadata": {},
   "outputs": [],
   "source": [
    "# 'unreasonable' problem\n",
    "prob2 = {(0,4,9),(0,8,6),(1,3,1),(1,7,4),(1,8,3),(2,0,7),(2,1,4),(2,5,5)\n",
    "        ,(3,1,3),(3,4,8),(3,5,7),(3,6,6),(3,8,2),(5,0,9),(5,2,8),(5,3,5)\n",
    "        ,(5,4,6),(5,7,1),(6,3,2),(6,7,8),(6,8,7),(7,0,8),(7,1,9),(7,5,6)\n",
    "        ,(8,0,5),(8,4,1)}"
   ]
  },
  {
   "cell_type": "code",
   "execution_count": 7,
   "metadata": {},
   "outputs": [
    {
     "name": "stdout",
     "output_type": "stream",
     "text": [
      "That was an easy one\n",
      "Initial known values are in black\n"
     ]
    },
    {
     "data": {
      "image/png": "[encoded data removed]",
      "text/plain": [
       "<Figure size 432x432 with 1 Axes>"
      ]
     },
     "metadata": {},
     "output_type": "display_data"
    }
   ],
   "source": [
    "ans = solve(prob1)"
   ]
  },
  {
   "cell_type": "code",
   "execution_count": 8,
   "metadata": {},
   "outputs": [
    {
     "name": "stdout",
     "output_type": "stream",
     "text": [
      "success!\n",
      "Initial known values are in black\n"
     ]
    },
    {
     "data": {
      "image/png": "[encoded data removed]",
      "text/plain": [
       "<Figure size 432x432 with 1 Axes>"
      ]
     },
     "metadata": {},
     "output_type": "display_data"
    }
   ],
   "source": [
    "ans = solve(prob2)"
   ]
  }
 ],
 "metadata": {
  "kernelspec": {
   "display_name": "Python 3",
   "language": "python",
   "name": "python3"
  },
  "language_info": {
   "codemirror_mode": {
    "name": "ipython",
    "version": 3
   },
   "file_extension": ".py",
   "mimetype": "text/x-python",
   "name": "python",
   "nbconvert_exporter": "python",
   "pygments_lexer": "ipython3",
   "version": "3.8.5"
  }
 },
 "nbformat": 4,
 "nbformat_minor": 4
}
